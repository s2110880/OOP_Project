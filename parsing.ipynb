{
 "cells": [
  {
   "cell_type": "code",
   "execution_count": null,
   "metadata": {},
   "outputs": [],
   "source": [
    "import argparse\n",
    "from classes import GLM_Normal, GLM_Bernoulli, GLM_Poisson\n",
    "from scipy.optimize import minimize\n",
    "from scipy.stats import norm\n",
    "import numpy as np\n",
    "import statsmodels.api as sm\n",
    "import pandas as pd"
   ]
  },
  {
   "cell_type": "code",
   "execution_count": 12,
   "metadata": {},
   "outputs": [
    {
     "name": "stdout",
     "output_type": "stream",
     "text": [
      "Writing parsing.py\n"
     ]
    }
   ],
   "source": [
    "%%writefile parsing.py \n",
    "import argparse\n",
    "parser = argparse.ArgumentParser()\n",
    "parser.add_argument(\"--model\", choices=[\"normal\", \"bernoulli\", \"poisson\"], \n",
    "            help=\"You can only choose one of the following distributions: normal, bernoulli, poisson\")\n",
    "parser.add_argument(\"--dset\", choices=[\"duncan\", \"spector\", \"warpbreaks\"], \n",
    "            help=\"Each dataset is for specific distribution: duncan for normal, spector for bernoulli, warpbreaks for poisson\")\n",
    "parser.add_argument(\"--predictors\", nargs=\"+\", help=\"Enter your predictor variables spacing (like this: --predictors x1 x2)\")\n",
    "parser.add_argument(\"--add_intercept\", action=\"store_true\", help='adding intercept to a model')\n",
    "\n",
    "args = parser.parse_args()\n",
    "print(args)"
   ]
  },
  {
   "cell_type": "code",
   "execution_count": 13,
   "metadata": {},
   "outputs": [
    {
     "name": "stdout",
     "output_type": "stream",
     "text": [
      "Namespace(model=None, dset=None, predictors=None, add_intercept=False)\n"
     ]
    }
   ],
   "source": [
    "!python3 parsing.py"
   ]
  },
  {
   "cell_type": "code",
   "execution_count": null,
   "metadata": {},
   "outputs": [
    {
     "name": "stdout",
     "output_type": "stream",
     "text": [
      "Namespace(model='normal', dset='duncan', predictors=['x1', 'x2'], add_intercept=True)\n"
     ]
    }
   ],
   "source": [
    "!python3 parsing.py --model normal --dset duncan --predictors x1 x2 --add_intercept"
   ]
  },
  {
   "cell_type": "code",
   "execution_count": null,
   "metadata": {},
   "outputs": [],
   "source": []
  }
 ],
 "metadata": {
  "kernelspec": {
   "display_name": "base",
   "language": "python",
   "name": "python3"
  },
  "language_info": {
   "codemirror_mode": {
    "name": "ipython",
    "version": 3
   },
   "file_extension": ".py",
   "mimetype": "text/x-python",
   "name": "python",
   "nbconvert_exporter": "python",
   "pygments_lexer": "ipython3",
   "version": "3.12.4"
  }
 },
 "nbformat": 4,
 "nbformat_minor": 2
}

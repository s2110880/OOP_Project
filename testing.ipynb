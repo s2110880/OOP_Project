{
 "cells": [
  {
   "cell_type": "code",
   "execution_count": 1,
   "metadata": {},
   "outputs": [],
   "source": [
    "from scipy.optimize import minimize\n",
    "from scipy.stats import norm\n",
    "import numpy as np\n",
    "import statsmodels.api as sm\n",
    "import pandas as pd\n",
    "from classes import GLM_Normal, GLM_Bernoulli, GLM_Poisson"
   ]
  },
  {
   "cell_type": "code",
   "execution_count": 57,
   "metadata": {},
   "outputs": [
    {
     "name": "stdout",
     "output_type": "stream",
     "text": [
      "warpbreaks:  \n",
      "    breaks  wool  tension\n",
      "0      26     0        0\n",
      "1      30     0        0\n",
      "2      54     0        0\n",
      "3      25     0        0\n",
      "4      70     0        0\n",
      "duncan:  \n",
      "             type  income  education  prestige\n",
      "rownames                                     \n",
      "accountant  prof      62         86        82\n",
      "pilot       prof      72         76        83\n",
      "architect   prof      75         92        90\n",
      "author      prof      55         90        76\n",
      "chemist     prof      64         86        90\n",
      "spector:  \n",
      "     GPA  TUCE  PSI  GRADE\n",
      "0  2.66  20.0  0.0    0.0\n",
      "1  2.89  22.0  0.0    0.0\n",
      "2  3.28  24.0  0.0    0.0\n",
      "3  2.92  12.0  0.0    0.0\n",
      "4  4.00  21.0  0.0    1.0\n"
     ]
    }
   ],
   "source": [
    "#data sets\n",
    "warpbreaks = pd.read_csv(\"warpbreaks.csv\") #for Poisson distribution\n",
    "duncan = sm.datasets.get_rdataset(\"Duncan\", \"carData\") #for Normal Distribution\n",
    "duncan = pd.DataFrame(data = duncan.data) #easier to use\n",
    "spector = sm.datasets.spector.load_pandas() #for Bernoulli distribution\n",
    "print(\"warpbreaks: \",\"\\n\", warpbreaks.head())\n",
    "print(\"duncan: \",\"\\n\", duncan.head())\n",
    "print(\"spector: \",\"\\n\", spector.data.head())\n"
   ]
  },
  {
   "cell_type": "markdown",
   "metadata": {},
   "source": [
    "Allocating data for Normal Distribution"
   ]
  },
  {
   "cell_type": "code",
   "execution_count": 58,
   "metadata": {},
   "outputs": [],
   "source": [
    "y_normal = duncan['income']\n",
    "X_normal = sm.add_constant(duncan[['education', 'prestige']])"
   ]
  },
  {
   "cell_type": "markdown",
   "metadata": {},
   "source": [
    "Allocating data for Bernoulli distribution"
   ]
  },
  {
   "cell_type": "code",
   "execution_count": 59,
   "metadata": {},
   "outputs": [],
   "source": [
    "y_Bernoulli = spector.endog\n",
    "X_Bernoulli = sm.add_constant(spector.exog)"
   ]
  },
  {
   "cell_type": "markdown",
   "metadata": {},
   "source": [
    "Allocating data for Poisson distribution"
   ]
  },
  {
   "cell_type": "code",
   "execution_count": 60,
   "metadata": {},
   "outputs": [],
   "source": [
    "y_Poisson = warpbreaks['breaks']\n",
    "X_Poisson = sm.add_constant(warpbreaks[['wool', 'tension']])"
   ]
  },
  {
   "cell_type": "markdown",
   "metadata": {},
   "source": [
    "Fittig models using sm.GLM"
   ]
  },
  {
   "cell_type": "code",
   "execution_count": null,
   "metadata": {},
   "outputs": [],
   "source": [
    "normal_mod = sm.GLM(y_normal, X_normal, family = sm.families.Gaussian()).fit() #normal\n",
    "logit_mod = sm.GLM(y_Bernoulli, X_Bernoulli, family = sm.families.Binomial()).fit() #bernoulli\n",
    "poisson_mod = sm.GLM(y_Poisson, X_Poisson, family = sm.families.Poisson()).fit() #poisson"
   ]
  },
  {
   "cell_type": "markdown",
   "metadata": {},
   "source": [
    "Fitting models using my classes and comparing results"
   ]
  },
  {
   "cell_type": "code",
   "execution_count": null,
   "metadata": {},
   "outputs": [
    {
     "name": "stdout",
     "output_type": "stream",
     "text": [
      "[10.42635945  0.03226317  0.62372386]\n"
     ]
    },
    {
     "data": {
      "text/plain": [
       "array([64.34634812, 64.64744032, 69.52971799, 60.73305764, 69.33613899,\n",
       "       67.40044108, 71.43315273, 69.78782332, 45.66689555, 68.08869127,\n",
       "       48.36609368, 69.09957313, 74.05710083, 49.93617306, 58.89414923,\n",
       "       35.22481371, 59.28121515, 62.75472927, 39.91351239, 70.45453404,\n",
       "       37.0745379 , 33.40744478, 38.28972245, 22.0190995 , 31.75129959,\n",
       "       44.74198742, 53.1192266 , 47.01104068, 27.35296942, 29.32093049,\n",
       "       17.59922986, 20.00805949, 23.11595508, 17.27659819, 19.0187171 ,\n",
       "       26.04099537, 23.73967894, 15.69579512, 12.84600485, 21.11573084,\n",
       "       15.13659759, 18.09390105, 16.06141364, 37.51540645, 17.69601936])"
      ]
     },
     "execution_count": 71,
     "metadata": {},
     "output_type": "execute_result"
    }
   ],
   "source": [
    "normal_glm = GLM_Normal(X_normal, y_normal)\n",
    "normal_glm.fit()\n",
    "normal_glm.prediction(X_normal)"
   ]
  },
  {
   "cell_type": "code",
   "execution_count": 74,
   "metadata": {},
   "outputs": [
    {
     "name": "stdout",
     "output_type": "stream",
     "text": [
      "[10.42636103  0.03226315  0.62372386]\n",
      "rownames\n",
      "accountant            64.346348\n",
      "pilot                 64.647441\n",
      "architect             69.529718\n",
      "author                60.733058\n",
      "chemist               69.336139\n",
      "minister              67.400441\n",
      "professor             71.433153\n",
      "dentist               69.787823\n",
      "reporter              45.666896\n",
      "engineer              68.088692\n",
      "undertaker            48.366094\n",
      "lawyer                69.099573\n",
      "physician             74.057101\n",
      "welfare.worker        49.936173\n",
      "teacher               58.894149\n",
      "conductor             35.224815\n",
      "contractor            59.281216\n",
      "factory.owner         62.754730\n",
      "store.manager         39.913513\n",
      "banker                70.454534\n",
      "bookkeeper            37.074538\n",
      "mail.carrier          33.407446\n",
      "insurance.agent       38.289723\n",
      "store.clerk           22.019100\n",
      "carpenter             31.751301\n",
      "electrician           44.741988\n",
      "RR.engineer           53.119228\n",
      "machinist             47.011042\n",
      "auto.repairman        27.352971\n",
      "plumber               29.320932\n",
      "gas.stn.attendant     17.599231\n",
      "coal.miner            20.008061\n",
      "streetcar.motorman    23.115956\n",
      "taxi.driver           17.276599\n",
      "truck.driver          19.018718\n",
      "machine.operator      26.040997\n",
      "barber                23.739680\n",
      "bartender             15.695796\n",
      "shoe.shiner           12.846006\n",
      "cook                  21.115732\n",
      "soda.clerk            15.136599\n",
      "watchman              18.093902\n",
      "janitor               16.061415\n",
      "policeman             37.515407\n",
      "waiter                17.696020\n",
      "dtype: float64\n"
     ]
    }
   ],
   "source": [
    "print(normal_mod.params.values)\n",
    "print(normal_mod.predict(X_normal))"
   ]
  },
  {
   "cell_type": "code",
   "execution_count": 75,
   "metadata": {},
   "outputs": [
    {
     "name": "stdout",
     "output_type": "stream",
     "text": [
      "[-13.02133824   2.82611282   0.09515727   2.37868716]\n"
     ]
    },
    {
     "data": {
      "text/plain": [
       "array([0.02657803, 0.05950129, 0.18725991, 0.02590175, 0.56989325,\n",
       "       0.03485835, 0.02650412, 0.05155905, 0.1111266 , 0.6935109 ,\n",
       "       0.0244704 , 0.18999748, 0.32223963, 0.19321108, 0.36098972,\n",
       "       0.0301838 , 0.05362638, 0.0385884 , 0.58987243, 0.6607856 ,\n",
       "       0.06137584, 0.90484709, 0.24177305, 0.85209072, 0.83829043,\n",
       "       0.48113256, 0.63542109, 0.3072185 , 0.84170421, 0.94534025,\n",
       "       0.52911733, 0.11103096])"
      ]
     },
     "execution_count": 75,
     "metadata": {},
     "output_type": "execute_result"
    }
   ],
   "source": [
    "bernoulli_glm = GLM_Bernoulli(X_Bernoulli, y_Bernoulli)\n",
    "bernoulli_glm.fit()\n",
    "bernoulli_glm.prediction(X_Bernoulli)"
   ]
  },
  {
   "cell_type": "code",
   "execution_count": 76,
   "metadata": {},
   "outputs": [
    {
     "name": "stdout",
     "output_type": "stream",
     "text": [
      "[-13.02134686   2.82611259   0.09515766   2.37868765]\n",
      "0     0.026578\n",
      "1     0.059501\n",
      "2     0.187260\n",
      "3     0.025902\n",
      "4     0.569893\n",
      "5     0.034858\n",
      "6     0.026504\n",
      "7     0.051559\n",
      "8     0.111127\n",
      "9     0.693511\n",
      "10    0.024470\n",
      "11    0.189997\n",
      "12    0.322240\n",
      "13    0.193211\n",
      "14    0.360990\n",
      "15    0.030184\n",
      "16    0.053626\n",
      "17    0.038588\n",
      "18    0.589872\n",
      "19    0.660786\n",
      "20    0.061376\n",
      "21    0.904847\n",
      "22    0.241772\n",
      "23    0.852091\n",
      "24    0.838291\n",
      "25    0.481133\n",
      "26    0.635421\n",
      "27    0.307219\n",
      "28    0.841704\n",
      "29    0.945340\n",
      "30    0.529117\n",
      "31    0.111031\n",
      "dtype: float64\n"
     ]
    }
   ],
   "source": [
    "print(logit_mod.params.values)\n",
    "print(logit_mod.predict(X_Bernoulli))"
   ]
  },
  {
   "cell_type": "code",
   "execution_count": 77,
   "metadata": {},
   "outputs": [
    {
     "name": "stdout",
     "output_type": "stream",
     "text": [
      "[ 3.67653953 -0.20598844 -0.26455303]\n"
     ]
    },
    {
     "data": {
      "text/plain": [
       "array([39.50943603, 39.50943603, 39.50943603, 39.50943603, 39.50943603,\n",
       "       39.50943603, 39.50943603, 39.50943603, 39.50943603, 30.32542587,\n",
       "       30.32542587, 30.32542587, 30.32542587, 30.32542587, 30.32542587,\n",
       "       30.32542587, 30.32542587, 30.32542587, 23.27624858, 23.27624858,\n",
       "       23.27624858, 23.27624858, 23.27624858, 23.27624858, 23.27624858,\n",
       "       23.27624858, 23.27624858, 32.15445766, 32.15445766, 32.15445766,\n",
       "       32.15445766, 32.15445766, 32.15445766, 32.15445766, 32.15445766,\n",
       "       32.15445766, 24.68012   , 24.68012   , 24.68012   , 24.68012   ,\n",
       "       24.68012   , 24.68012   , 24.68012   , 24.68012   , 24.68012   ,\n",
       "       18.94320002, 18.94320002, 18.94320002, 18.94320002, 18.94320002,\n",
       "       18.94320002, 18.94320002, 18.94320002, 18.94320002])"
      ]
     },
     "execution_count": 77,
     "metadata": {},
     "output_type": "execute_result"
    }
   ],
   "source": [
    "poisson_glm = GLM_Poisson(X_Poisson, y_Poisson)\n",
    "poisson_glm.fit()\n",
    "poisson_glm.prediction(X_Poisson)"
   ]
  },
  {
   "cell_type": "code",
   "execution_count": 78,
   "metadata": {},
   "outputs": [
    {
     "name": "stdout",
     "output_type": "stream",
     "text": [
      "[ 3.67653953 -0.20598844 -0.26455302]\n",
      "0     39.509436\n",
      "1     39.509436\n",
      "2     39.509436\n",
      "3     39.509436\n",
      "4     39.509436\n",
      "5     39.509436\n",
      "6     39.509436\n",
      "7     39.509436\n",
      "8     39.509436\n",
      "9     30.325426\n",
      "10    30.325426\n",
      "11    30.325426\n",
      "12    30.325426\n",
      "13    30.325426\n",
      "14    30.325426\n",
      "15    30.325426\n",
      "16    30.325426\n",
      "17    30.325426\n",
      "18    23.276249\n",
      "19    23.276249\n",
      "20    23.276249\n",
      "21    23.276249\n",
      "22    23.276249\n",
      "23    23.276249\n",
      "24    23.276249\n",
      "25    23.276249\n",
      "26    23.276249\n",
      "27    32.154458\n",
      "28    32.154458\n",
      "29    32.154458\n",
      "30    32.154458\n",
      "31    32.154458\n",
      "32    32.154458\n",
      "33    32.154458\n",
      "34    32.154458\n",
      "35    32.154458\n",
      "36    24.680120\n",
      "37    24.680120\n",
      "38    24.680120\n",
      "39    24.680120\n",
      "40    24.680120\n",
      "41    24.680120\n",
      "42    24.680120\n",
      "43    24.680120\n",
      "44    24.680120\n",
      "45    18.943200\n",
      "46    18.943200\n",
      "47    18.943200\n",
      "48    18.943200\n",
      "49    18.943200\n",
      "50    18.943200\n",
      "51    18.943200\n",
      "52    18.943200\n",
      "53    18.943200\n",
      "dtype: float64\n"
     ]
    }
   ],
   "source": [
    "print(poisson_mod.params.values)\n",
    "print(poisson_mod.predict(X_Poisson))"
   ]
  },
  {
   "cell_type": "code",
   "execution_count": null,
   "metadata": {},
   "outputs": [],
   "source": []
  }
 ],
 "metadata": {
  "kernelspec": {
   "display_name": "base",
   "language": "python",
   "name": "python3"
  },
  "language_info": {
   "codemirror_mode": {
    "name": "ipython",
    "version": 3
   },
   "file_extension": ".py",
   "mimetype": "text/x-python",
   "name": "python",
   "nbconvert_exporter": "python",
   "pygments_lexer": "ipython3",
   "version": "3.12.4"
  }
 },
 "nbformat": 4,
 "nbformat_minor": 2
}

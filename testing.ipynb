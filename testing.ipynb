{
 "cells": [
  {
   "cell_type": "code",
   "execution_count": 1,
   "metadata": {},
   "outputs": [],
   "source": [
    "from classes import GLM_Normal, GLM_Bernoulli\n",
    "from scipy.optimize import minimize\n",
    "from scipy.stats import norm\n",
    "import numpy as np"
   ]
  },
  {
   "cell_type": "markdown",
   "metadata": {},
   "source": [
    "Some tests for Normal Distribution"
   ]
  },
  {
   "cell_type": "code",
   "execution_count": 2,
   "metadata": {},
   "outputs": [
    {
     "name": "stdout",
     "output_type": "stream",
     "text": [
      "[1.00000006 0.99999996]\n",
      "Predictions: [4.99999992 5.99999988]\n"
     ]
    }
   ],
   "source": [
    "X = np.array([[1, 1], [1, 2], [1, 3]])\n",
    "y = np.array([2, 3, 4])\n",
    "normal_glm = GLM_Normal(X, y)\n",
    "normal_glm.fit()\n",
    "\n",
    "X_new = np.array([[1, 4], [1, 5]])\n",
    "predictions = normal_glm.prediction(X_new)\n",
    "\n",
    "print(\"Predictions:\", predictions)"
   ]
  },
  {
   "cell_type": "code",
   "execution_count": 9,
   "metadata": {},
   "outputs": [
    {
     "name": "stdout",
     "output_type": "stream",
     "text": [
      "[1.00000013 1.99999997]\n",
      "Predictions: [14.99999989 16.99999985]\n"
     ]
    }
   ],
   "source": [
    "X = np.array([[1, 2], [1, 4], [1, 6]])\n",
    "y = np.array([5, 9, 13])\n",
    "normal_glm = GLM_Normal(X, y)\n",
    "normal_glm.fit()\n",
    "X_new = np.array([[1, 7], [1, 8]])\n",
    "predictions = normal_glm.prediction(X_new)\n",
    "print(\"Predictions:\", predictions)"
   ]
  },
  {
   "cell_type": "code",
   "execution_count": 10,
   "metadata": {},
   "outputs": [
    {
     "name": "stdout",
     "output_type": "stream",
     "text": [
      "[1.00000079 1.0000012 ]\n",
      "Predictions: [4.00000438 5.00000557]\n"
     ]
    }
   ],
   "source": [
    "X = np.array([[1, 0], [1, 1], [1, 2]])\n",
    "y = np.array([1, 2, 3])\n",
    "normal_glm = GLM_Normal(X, y)\n",
    "normal_glm.fit()\n",
    "X_new = np.array([[1, 3], [1, 4]])\n",
    "predictions = normal_glm.prediction(X_new)\n",
    "print(\"Predictions:\", predictions)"
   ]
  },
  {
   "cell_type": "markdown",
   "metadata": {},
   "source": [
    "Some tests for Bernoulli distribution"
   ]
  },
  {
   "cell_type": "code",
   "execution_count": 4,
   "metadata": {},
   "outputs": [
    {
     "name": "stdout",
     "output_type": "stream",
     "text": [
      "[-47.89930879  23.93663783]\n",
      "Predicted probabilities: [3.91871999e-11 4.93492086e-01 1.00000000e+00]\n"
     ]
    }
   ],
   "source": [
    "X = np.array([[1, 0.5], [1, 1.5], [1, 2.5], [1, 3.5], [1, 4.5]])\n",
    "y = np.array([0, 0, 1, 1, 1])\n",
    "bernouilli_glm = GLM_Bernoulli(X, y)\n",
    "bernouilli_glm.fit()\n",
    "X_new = np.array([[1, 1], [1, 2], [1, 3]])\n",
    "predictions = bernouilli_glm.prediction(X_new)\n",
    "print(\"Predicted probabilities:\", predictions)\n",
    "#look correct"
   ]
  },
  {
   "cell_type": "code",
   "execution_count": null,
   "metadata": {},
   "outputs": [],
   "source": []
  }
 ],
 "metadata": {
  "kernelspec": {
   "display_name": "base",
   "language": "python",
   "name": "python3"
  },
  "language_info": {
   "codemirror_mode": {
    "name": "ipython",
    "version": 3
   },
   "file_extension": ".py",
   "mimetype": "text/x-python",
   "name": "python",
   "nbconvert_exporter": "python",
   "pygments_lexer": "ipython3",
   "version": "3.12.4"
  }
 },
 "nbformat": 4,
 "nbformat_minor": 2
}
